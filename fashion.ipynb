{
  "nbformat": 4,
  "nbformat_minor": 0,
  "metadata": {
    "colab": {
      "provenance": []
    },
    "kernelspec": {
      "name": "python3",
      "display_name": "Python 3"
    },
    "language_info": {
      "name": "python"
    }
  },
  "cells": [
    {
      "cell_type": "code",
      "execution_count": 22,
      "metadata": {
        "colab": {
          "base_uri": "https://localhost:8080/",
          "height": 192
        },
        "id": "KOpXZ7oYabop",
        "outputId": "107d05d1-e718-4fb2-bf91-0340c2b78bf5"
      },
      "outputs": [
        {
          "output_type": "display_data",
          "data": {
            "text/plain": [
              "<Figure size 1200x200 with 6 Axes>"
            ],
            "image/png": "[encoded data removed]"
          },
          "metadata": {}
        }
      ],
      "source": [
        "import torch\n",
        "import torchvision\n",
        "import torchvision.transforms as transforms\n",
        "import matplotlib.pyplot as plt\n",
        "\n",
        "# Трансформации (нормализация в [0,1])\n",
        "transform = transforms.Compose([transforms.ToTensor()])\n",
        "\n",
        "trainset = torchvision.datasets.FashionMNIST(root=\"./data\", train=True, download=True, transform=transform)\n",
        "testset = torchvision.datasets.FashionMNIST(root=\"./data\", train=False, download=True, transform=transform)\n",
        "\n",
        "trainloader = torch.utils.data.DataLoader(trainset, batch_size=64, shuffle=True)\n",
        "testloader = torch.utils.data.DataLoader(testset, batch_size=64, shuffle=False)\n",
        "\n",
        "# Визуализация первых картинок\n",
        "classes = [\"T-shirt/top\", \"Trouser\", \"Pullover\", \"Dress\", \"Coat\",\n",
        "           \"Sandal\", \"Shirt\", \"Sneaker\", \"Bag\", \"Ankle boot\"]\n",
        "\n",
        "images, labels = next(iter(trainloader))\n",
        "fig, axes = plt.subplots(1, 6, figsize=(12,2))\n",
        "for i in range(6):\n",
        "    axes[i].imshow(images[i][0], cmap=\"gray\")\n",
        "    axes[i].set_title(classes[labels[i]])\n",
        "    axes[i].axis(\"off\")\n",
        "plt.show()\n",
        "\n"
      ]
    },
    {
      "cell_type": "code",
      "source": [
        "import torch.nn as nn\n",
        "import torch.nn.functional as F\n",
        "\n",
        "class FashionCNN(nn.Module):\n",
        "    def __init__(self):\n",
        "        super().__init__()\n",
        "        # 1 канал (ч/б изображение) → 32 карты признаков\n",
        "        self.conv1 = nn.Conv2d(1, 32, kernel_size=3, padding=1)\n",
        "        self.conv2 = nn.Conv2d(32, 64, kernel_size=3, padding=1)\n",
        "        self.pool = nn.MaxPool2d(2, 2)  # уменьшаем размер в 2 раза\n",
        "        self.dropout = nn.Dropout(0.25)\n",
        "\n",
        "        # Полносвязные слои\n",
        "        self.fc1 = nn.Linear(64 * 7 * 7, 128)  # после 2х пулингов картинка 28→14→7\n",
        "        self.fc2 = nn.Linear(128, 10)\n",
        "\n",
        "    def forward(self, x):\n",
        "        x = F.relu(self.conv1(x))    # [batch, 32, 28, 28]\n",
        "        x = self.pool(F.relu(self.conv2(x)))  # [batch, 64, 14, 14]\n",
        "        x = self.pool(x)             # [batch, 64, 7, 7]\n",
        "        x = self.dropout(x)\n",
        "        x = x.view(-1, 64 * 7 * 7)   # раскладываем в вектор\n",
        "        x = F.relu(self.fc1(x))\n",
        "        x = self.dropout(x)\n",
        "        x = self.fc2(x)\n",
        "        return x\n"
      ],
      "metadata": {
        "id": "xIWdbmSAKQdY"
      },
      "execution_count": 23,
      "outputs": []
    },
    {
      "cell_type": "code",
      "source": [
        "model = FashionCNN()\n",
        "criterion = nn.CrossEntropyLoss()\n",
        "optimizer = torch.optim.Adam(model.parameters(), lr=0.001)\n",
        "\n",
        "num_epochs = 10\n",
        "for epoch in range(num_epochs):\n",
        "    running_loss = 0.0\n",
        "    for xb, yb in trainloader:\n",
        "        optimizer.zero_grad()\n",
        "        preds = model(xb)\n",
        "        loss = criterion(preds, yb)\n",
        "        loss.backward()\n",
        "        optimizer.step()\n",
        "        running_loss += loss.item()\n",
        "    print(f\"Epoch {epoch+1}, Loss: {running_loss/len(trainloader):.4f}\")\n"
      ],
      "metadata": {
        "colab": {
          "base_uri": "https://localhost:8080/"
        },
        "id": "HtHLrh9QN8ps",
        "outputId": "baedd5b8-88cd-4a3a-9cf0-e10698fe858a"
      },
      "execution_count": 24,
      "outputs": [
        {
          "metadata": {
            "tags": null
          },
          "name": "stdout",
          "output_type": "stream",
          "text": [
            "Epoch 1, Loss: 0.4746\n",
            "Epoch 2, Loss: 0.3065\n",
            "Epoch 3, Loss: 0.2687\n",
            "Epoch 4, Loss: 0.2433\n",
            "Epoch 5, Loss: 0.2257\n",
            "Epoch 6, Loss: 0.2086\n",
            "Epoch 7, Loss: 0.1943\n",
            "Epoch 8, Loss: 0.1812\n",
            "Epoch 9, Loss: 0.1718\n",
            "Epoch 10, Loss: 0.1626\n"
          ]
        }
      ]
    },
    {
      "cell_type": "code",
      "source": [
        "correct, total = 0, 0\n",
        "with torch.no_grad():\n",
        "    for xb, yb in testloader:\n",
        "        outputs = model(xb)\n",
        "        _, predicted = torch.max(outputs, 1)\n",
        "        total += yb.size(0)\n",
        "        correct += (predicted == yb).sum().item()\n",
        "\n",
        "print(\"CNN Test Accuracy:\", correct / total)\n"
      ],
      "metadata": {
        "colab": {
          "base_uri": "https://localhost:8080/"
        },
        "id": "BMa4Tc1pKyTp",
        "outputId": "0e74eeb6-b764-4f9f-8ae6-f7c0164bff77"
      },
      "execution_count": 25,
      "outputs": [
        {
          "output_type": "stream",
          "name": "stdout",
          "text": [
            "CNN Test Accuracy: 0.9176\n"
          ]
        }
      ]
    }
  ]
}